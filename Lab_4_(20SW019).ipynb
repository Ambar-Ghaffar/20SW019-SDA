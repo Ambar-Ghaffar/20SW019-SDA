{
  "nbformat": 4,
  "nbformat_minor": 0,
  "metadata": {
    "colab": {
      "provenance": [],
      "authorship_tag": "ABX9TyNXDlmzkfhb62oaKHXxBpDc",
      "include_colab_link": true
    },
    "kernelspec": {
      "name": "python3",
      "display_name": "Python 3"
    },
    "language_info": {
      "name": "python"
    }
  },
  "cells": [
    {
      "cell_type": "markdown",
      "metadata": {
        "id": "view-in-github",
        "colab_type": "text"
      },
      "source": [
        "<a href=\"https://colab.research.google.com/github/Ambar-Ghaffar/20SW019-SDA/blob/main/Lab_4_(20SW019).ipynb\" target=\"_parent\"><img src=\"https://colab.research.google.com/assets/colab-badge.svg\" alt=\"Open In Colab\"/></a>"
      ]
    },
    {
      "cell_type": "code",
      "execution_count": 1,
      "metadata": {
        "colab": {
          "base_uri": "https://localhost:8080/"
        },
        "id": "XKLqxZVMyE1m",
        "outputId": "757d49f7-a934-4e38-8ef4-795f0daf44aa"
      },
      "outputs": [
        {
          "output_type": "stream",
          "name": "stdout",
          "text": [
            "[[ 2  4  6  8]\n",
            " [10 12 14 16]\n",
            " [18 20 22 24]\n",
            " [26 28 30 32]]\n"
          ]
        }
      ],
      "source": [
        "#Task#01\n",
        "import numpy as np\n",
        "\n",
        "A = np.arange(2, 34, 2).reshape(4, 4)\n",
        "\n",
        "print(A)\n",
        "\n",
        "\n"
      ]
    },
    {
      "cell_type": "code",
      "source": [
        "#Task#03\n",
        "import numpy as np\n",
        "\n",
        "# Create a 4x4 ndarray with columns filled using broadcasting\n",
        "Y = np.arange(1, 5).reshape(4, 1) * np.ones((1, 4))\n",
        "\n",
        "print(Y)\n"
      ],
      "metadata": {
        "colab": {
          "base_uri": "https://localhost:8080/"
        },
        "id": "DB4EIVTvz13k",
        "outputId": "102b482e-93e5-4236-e3db-8acb68abec91"
      },
      "execution_count": 4,
      "outputs": [
        {
          "output_type": "stream",
          "name": "stdout",
          "text": [
            "[[1. 1. 1. 1.]\n",
            " [2. 2. 2. 2.]\n",
            " [3. 3. 3. 3.]\n",
            " [4. 4. 4. 4.]]\n"
          ]
        }
      ]
    },
    {
      "cell_type": "code",
      "source": [
        "#task 2\n",
        "A = np.arange(1, 26).reshape(5, 5)\n",
        "print(\"A:\")\n",
        "print(A)\n",
        "\n",
        "B = A[A % 2 != 0]\n",
        "print(\"\\nB (odd numbers from A):\")\n",
        "print(B)"
      ],
      "metadata": {
        "colab": {
          "base_uri": "https://localhost:8080/"
        },
        "id": "95oOAsZKzwIn",
        "outputId": "ec3d3b17-cb3f-4e4c-d4d5-4d4913cadae1"
      },
      "execution_count": 3,
      "outputs": [
        {
          "output_type": "stream",
          "name": "stdout",
          "text": [
            "A:\n",
            "[[ 1  2  3  4  5]\n",
            " [ 6  7  8  9 10]\n",
            " [11 12 13 14 15]\n",
            " [16 17 18 19 20]\n",
            " [21 22 23 24 25]]\n",
            "\n",
            "B (odd numbers from A):\n",
            "[ 1  3  5  7  9 11 13 15 17 19 21 23 25]\n"
          ]
        }
      ]
    },
    {
      "cell_type": "code",
      "source": [
        "#Task#04\n",
        "from google.colab import drive\n",
        "drive.mount('/NumPy.ipnyb')\n",
        "\n",
        "import numpy as np\n",
        "\n",
        "# Create a 1000x20 ndarray with random integers in the range [0, 5001)\n",
        "X = np.random.randint(0, 5001, size=(1000, 20))\n",
        "# Print the shape of X\n",
        "print(X.shape)\n",
        "\n",
        "# Calculate the average of the values in each column of X\n",
        "ave_cols = np.mean(X, axis=0)\n",
        "\n",
        "# Calculate the standard deviation of the values in each column of X\n",
        "std_cols = np.std(X, axis=0)\n",
        "\n",
        "\n",
        "print(\"Shape of ave_cols:\", ave_cols.shape)\n",
        "print(\"Shape of std_cols:\", std_cols.shape)\n",
        "\n",
        "# Mean normalize X\n",
        "X_norm = (X - ave_cols) / std_cols\n",
        "\n",
        "print(\"Mean normalized X:\")\n",
        "print(X_norm)\n",
        "\n",
        "# Print the average of all the values of X_norm\n",
        "ave_all_values = np.mean(X_norm)\n",
        "print(\"Average of all values in X_norm:\", ave_all_values)\n",
        "\n",
        "# Print the average of the minimum value in each column of X_norm\n",
        "ave_min_values = np.mean(np.min(X_norm, axis=0))\n",
        "print(\"Average of minimum values in each column of X_norm:\", ave_min_values)\n",
        "\n",
        "# Print the average of the maximum value in each column of X_norm\n",
        "ave_max_values = np.mean(np.max(X_norm, axis=0))\n",
        "print(\"Average of maximum values in each column of X_norm:\", ave_max_values)\n",
        "\n",
        "# We create a random permutation of integers 0 to 4\n",
        "np.random.permutation(5)\n",
        "\n",
        "# Create a random permutation of row indices of X_norm\n",
        "row_indices = np.random.permutation(X_norm.shape[0])\n",
        "\n",
        "print(\"Random permutation of row indices:\", row_indices)\n",
        "\n",
        "\n",
        "# Define the ratios for training, cross-validation, and test sets\n",
        "train_ratio = 0.6\n",
        "cross_val_ratio = 0.2\n",
        "test_ratio = 0.2\n",
        "\n",
        "# Calculate the sizes of each set based on the ratios\n",
        "num_rows = X_norm.shape[0]\n",
        "num_train = int(train_ratio * num_rows)\n",
        "num_cross_val = int(cross_val_ratio * num_rows)\n",
        "num_test = int(test_ratio * num_rows)\n",
        "\n",
        "# Use row_indices to split the data into sets\n",
        "X_train = X_norm[row_indices[:num_train]]\n",
        "X_crossVal = X_norm[row_indices[num_train:num_train + num_cross_val]]\n",
        "X_test = X_norm[row_indices[num_train + num_cross_val:]]\n",
        "\n",
        "print(\"X_train shape:\", X_train.shape)\n",
        "print(\"X_crossVal shape:\", X_crossVal.shape)\n",
        "print(\"X_test shape:\", X_test.shape)"
      ],
      "metadata": {
        "colab": {
          "base_uri": "https://localhost:8080/"
        },
        "id": "VQvhIzM0zkRQ",
        "outputId": "cf774f89-627f-43af-8395-afe2ee75f795"
      },
      "execution_count": 7,
      "outputs": [
        {
          "output_type": "stream",
          "name": "stdout",
          "text": [
            "Mounted at /NumPy.ipnyb\n",
            "(1000, 20)\n",
            "Shape of ave_cols: (20,)\n",
            "Shape of std_cols: (20,)\n",
            "Mean normalized X:\n",
            "[[ 0.77226364  1.30456041 -0.83319617 ... -0.28630676  0.86792352\n",
            "   0.66268826]\n",
            " [ 0.22149428 -0.92473293 -1.48688952 ... -0.25786325  0.30994213\n",
            "  -0.40420551]\n",
            " [ 0.48212621 -0.55812271  1.66726645 ...  0.98046976 -0.09816532\n",
            "   1.08890795]\n",
            " ...\n",
            " [-0.03773262 -0.65666644  0.10593186 ...  1.64438276 -1.5518722\n",
            "  -1.48656152]\n",
            " [-1.58115133 -0.93920439 -0.52517313 ... -0.46598645 -0.49079283\n",
            "  -1.57462899]\n",
            " [-0.13327424 -1.60006755 -1.22130521 ...  1.26074234  1.34217252\n",
            "  -0.83244202]]\n",
            "Average of all values in X_norm: 0.0\n",
            "Average of minimum values in each column of X_norm: -1.7270271934735741\n",
            "Average of maximum values in each column of X_norm: 1.7215980959346755\n",
            "Random permutation of row indices: [839 614 783 770 303 878 173 437 853 725 107 948 347 939 861 126 280 167\n",
            " 769 417 737 156  13 115 592 637 375 980  10 992 101 239 356 169 707 586\n",
            " 969 452 916 340  88 864 368 882 287 857 669 937 179 109 193 794 145 446\n",
            "  73 455 901 985 158 268 653 805 426 118 668 219 105 795 196 966 121 388\n",
            " 569  24 244 309 463 883 296 863 164 841 751 871 311 398 661 671 567 818\n",
            " 241 740 487 723 837 140 958  87 240 159 928 243 846 760 718 246 324 634\n",
            " 348 176  98 157 987 880 108 148 321 717 746 639 896 440  12 679 307  85\n",
            " 122 514  70   4 621 876 923 119 113 290 277 192 242 888  27 625 946 989\n",
            " 256 594 322 789 589 571 804 496 155 870 211 650 612 807 188 613  18 862\n",
            " 810 660  51 688 913 216  43  23 414 468 225 591 260  60 903 635 860  66\n",
            " 713 915 730 821 777 642 623 315 490 995 631 956 276 833 879 764  58 263\n",
            "  45  59 298 334 790 744 993 359 722 886 867 955 235 811 561 787 967 984\n",
            " 965 691 700 952  55 617 191 822 272 223 339 820 745 402 670 283 338 129\n",
            " 950 752 560 797 971 632 983 404 349 925 781 598 110 415 719 852 558 774\n",
            " 812 428 444 385 373 494 257 648 485 605 202 702 442 491 306  26 826 470\n",
            " 912 381 464  11 859  31 453 656 130 383 270 636  47 412 657 545 727 421\n",
            " 509 132 473   6 817 289  16  56 489 742 435 743 610 682  49 505 345 165\n",
            " 370 476 443 337 716 835 599 174 556 267 195 602 931   0 231 355 570 450\n",
            " 568 900 429  79 436 147 506 991 454 221 224 353 998 227 926 403 397 550\n",
            " 941 767 519 796 229 382  64 377 943 990 914 284 204 328 802 809 906 380\n",
            " 104 501 986 523 264 286 376 924 603 123 942 249  94 418 720 378 230 100\n",
            " 919 829 529 299  74 892 449 711 234 590 838 177 647 304 714 112 152  17\n",
            " 525 371 346 538 619 842 641 151 465 438 549 136 411 673 399 469 658  48\n",
            " 493  97 226 951  38 526  54 739 319 456  81 313 127 524 982 366 434 551\n",
            " 163 170  15  44 855 427 247 759 747 749 583 329 143 858 938 584 141 927\n",
            " 214 407 973 618 559 175 775 266 292 189  83 750 577 553 448 897  33 678\n",
            " 628 806 979 206 462 546 197 432 816 186 423 278 596 354 532 659 709 269\n",
            " 301 271 848 712  69 975 736 552 111 395 536 180 699 663 332 393 281 372\n",
            " 895 343 974 153 761  92 667 431 662 508 467 824 708 580 689 474 898 865\n",
            " 630 907 194 690 786 695 530 255 424  62 314 422 825 218 300  28 102 687\n",
            " 909 977 406 949 253 520 873 323 564 178   8 978 207 484 587 389 608 738\n",
            " 457  29  57 728 585 252 154 803 655 874 331 891 251 517  78 522 513 274\n",
            " 459 212 831 430 776 997 134 935 792 624 200 953 996 601 620   7 534 799\n",
            " 316 259 336 390 318 893 782 358 932 285 486 265 588 273  21 466 847 581\n",
            " 172 697 885 649 606 773  91 836 535 248 120 677 185 238 988 578 203 840\n",
            " 364 563 518   9 400 138 502 651 492 554 183  72 706 627  37 261 652 367\n",
            " 929 312 854 724 788 643 921 548 735 288 365 330 575  93 478 149 758 106\n",
            "  50 819 477 664 481 117 171 579 593 947 686 483 447 573 692 308 361 721\n",
            " 801 574 142   5 604 753 369 531 512 731 521 439   1 497 856 755 144 680\n",
            " 317 161 791 685 576 814 245 150 232  19 131 199  52 945 451  34 528 350\n",
            " 213 633 729 392 335 237 704 768 386 441  86 433 766  53 889 182 425 887\n",
            " 254 510 566 710 201 675 515  35 125 146 374 904 800 772 258 696 445 732\n",
            " 582 116 205 844 905 168 222 482  46  99 813 646 756 250  90 972 665 734\n",
            " 408  89 471  42 640 137 302 124 499 562 187 210 869 684 557  32 363 936\n",
            " 533 543 539 961 910 391 823 597 547  71 827 845  39 754 763 644 611  61\n",
            "  41 379 908 981 638 360 884 693 849 960 128 503 920 815 103   3  80 676\n",
            " 765 133 733 351 866 616 396 957 166 607 475 762 850 387 198 645 808 890\n",
            " 600 832  36  95 962 504  14 305  77 472 911 565 851 114 694  82 934 629\n",
            " 384 362 918 184 963 705 181 282 785 843  65 784  67 933 511 135 209 297\n",
            " 757 615 352  30 834 555 940 609 516  68 771  96  20 327 413 160 779 275\n",
            " 217 341  75 162 875 542 320 420 342 994 868  84 959 572 480 409 622 419\n",
            " 139 780 310 401 968 279 902  40 930 291 537 654 976 830 479 190 233 544\n",
            " 208 944 595 500 964 262 741 507 626  25 954 295 325 828 703 228 527 236\n",
            " 999 326 872 681  22 674 344 726 894 541 416 410 881 698 778 970 498 683\n",
            " 877 458 460   2  63 748 672 701 405  76 488 293 215 220 294 793 394 798\n",
            " 357 899 917 461 715 333 922 666 540 495]\n",
            "X_train shape: (600, 20)\n",
            "X_crossVal shape: (200, 20)\n",
            "X_test shape: (200, 20)\n"
          ]
        }
      ]
    },
    {
      "cell_type": "code",
      "source": [],
      "metadata": {
        "id": "3VcECS7-zlW_"
      },
      "execution_count": null,
      "outputs": []
    },
    {
      "cell_type": "code",
      "source": [],
      "metadata": {
        "id": "PVUwy7iNzZBy"
      },
      "execution_count": null,
      "outputs": []
    }
  ]
}